{
  "nbformat": 4,
  "nbformat_minor": 0,
  "metadata": {
    "colab": {
      "name": "pre-process.ipynb",
      "provenance": [],
      "collapsed_sections": []
    },
    "kernelspec": {
      "name": "python3",
      "display_name": "Python 3"
    },
    "language_info": {
      "name": "python"
    }
  },
  "cells": [
    {
      "cell_type": "code",
      "metadata": {
        "colab": {
          "base_uri": "https://localhost:8080/"
        },
        "id": "Xbl7WWdzuC5w",
        "outputId": "3d1fad18-99d7-4389-c9d9-2403b1c05257"
      },
      "source": [
        "from google.colab import drive\n",
        "drive.mount('/content/drive')\n",
        "!pwd"
      ],
      "execution_count": 31,
      "outputs": [
        {
          "output_type": "stream",
          "name": "stdout",
          "text": [
            "Drive already mounted at /content/drive; to attempt to forcibly remount, call drive.mount(\"/content/drive\", force_remount=True).\n",
            "/content/drive/My Drive/DA/assignment1\n"
          ]
        }
      ]
    },
    {
      "cell_type": "code",
      "metadata": {
        "id": "E3Mn9L-A0Clt"
      },
      "source": [
        "!ls\n",
        "%cd drive/MyDrive/DA/assignment1\n",
        "!pwd"
      ],
      "execution_count": null,
      "outputs": []
    },
    {
      "cell_type": "code",
      "metadata": {
        "colab": {
          "base_uri": "https://localhost:8080/"
        },
        "id": "5ZMAYGTCpLND",
        "outputId": "94350552-11e2-4992-f895-680d7fe697f2"
      },
      "source": [
        "!pip install haversine"
      ],
      "execution_count": 33,
      "outputs": [
        {
          "output_type": "stream",
          "name": "stdout",
          "text": [
            "Requirement already satisfied: haversine in /usr/local/lib/python3.7/dist-packages (2.5.1)\n"
          ]
        }
      ]
    },
    {
      "cell_type": "code",
      "metadata": {
        "id": "ljvaxnvq1Agb"
      },
      "source": [
        "%matplotlib inline\n",
        "import matplotlib.pyplot as plt\n",
        "import numpy as np\n",
        "import pandas as pd\n",
        "import collections\n",
        "import math\n",
        "import seaborn as sns\n",
        "from sklearn.manifold import TSNE\n",
        "from sklearn.preprocessing import StandardScaler, normalize, MinMaxScaler\n",
        "from matplotlib.colors import ListedColormap\n",
        "from sklearn import datasets, linear_model\n",
        "import re\n",
        "from haversine import haversine, Unit"
      ],
      "execution_count": 34,
      "outputs": []
    },
    {
      "cell_type": "markdown",
      "metadata": {
        "id": "cE6e24Pm1_6Q"
      },
      "source": [
        "#Read Dataset"
      ]
    },
    {
      "cell_type": "code",
      "metadata": {
        "colab": {
          "base_uri": "https://localhost:8080/",
          "height": 1000
        },
        "id": "W1GAo0F11Cls",
        "outputId": "0cb23266-16dd-42f2-f19e-d99f113db602"
      },
      "source": [
        "df_data_org = pd.read_csv('IndianEarthquakesListUpdateMagnitudes.csv', na_values=np.NaN)\n",
        "# df_data_org = pd.read_csv('Indian Earthquakes List Update_Magnitudes (1).csv', na_values=np.NaN, skiprows=10, encoding=\"utf-8\")\n",
        "df_data_org.columns = [x.strip().lower() for x in df_data_org.columns]\n",
        "print(df_data_org.shape)\n",
        "display(df_data_org.head())\n",
        "display(df_data_org.info())\n",
        "display(df_data_org.describe())"
      ],
      "execution_count": 35,
      "outputs": [
        {
          "output_type": "stream",
          "name": "stdout",
          "text": [
            "(52989, 20)\n"
          ]
        },
        {
          "output_type": "stream",
          "name": "stderr",
          "text": [
            "/usr/local/lib/python3.7/dist-packages/IPython/core/interactiveshell.py:2718: DtypeWarning: Columns (2,5,7,9,10,11,12,13,15) have mixed types.Specify dtype option on import or set low_memory=False.\n",
            "  interactivity=interactivity, compiler=compiler, result=result)\n"
          ]
        },
        {
          "output_type": "display_data",
          "data": {
            "text/html": [
              "<div>\n",
              "<style scoped>\n",
              "    .dataframe tbody tr th:only-of-type {\n",
              "        vertical-align: middle;\n",
              "    }\n",
              "\n",
              "    .dataframe tbody tr th {\n",
              "        vertical-align: top;\n",
              "    }\n",
              "\n",
              "    .dataframe thead th {\n",
              "        text-align: right;\n",
              "    }\n",
              "</style>\n",
              "<table border=\"1\" class=\"dataframe\">\n",
              "  <thead>\n",
              "    <tr style=\"text-align: right;\">\n",
              "      <th></th>\n",
              "      <th>sl. no.</th>\n",
              "      <th>year</th>\n",
              "      <th>month</th>\n",
              "      <th>date</th>\n",
              "      <th>origin time (utc)</th>\n",
              "      <th>origin time (ist)</th>\n",
              "      <th>magnitude</th>\n",
              "      <th>mw</th>\n",
              "      <th>mb</th>\n",
              "      <th>m_b</th>\n",
              "      <th>ms</th>\n",
              "      <th>ml</th>\n",
              "      <th>lat (n)</th>\n",
              "      <th>long (e)</th>\n",
              "      <th>depth (km)</th>\n",
              "      <th>intensity mm</th>\n",
              "      <th>mmi</th>\n",
              "      <th>mme</th>\n",
              "      <th>location</th>\n",
              "      <th>reference</th>\n",
              "    </tr>\n",
              "  </thead>\n",
              "  <tbody>\n",
              "    <tr>\n",
              "      <th>0</th>\n",
              "      <td>1</td>\n",
              "      <td>-2474</td>\n",
              "      <td>0</td>\n",
              "      <td>0.0</td>\n",
              "      <td>NaN</td>\n",
              "      <td>NaN</td>\n",
              "      <td>7.5000</td>\n",
              "      <td>7.5</td>\n",
              "      <td>NaN</td>\n",
              "      <td>6.969202899</td>\n",
              "      <td>7.260619977</td>\n",
              "      <td>7.427072403</td>\n",
              "      <td>71</td>\n",
              "      <td>24</td>\n",
              "      <td>0.0</td>\n",
              "      <td>NaN</td>\n",
              "      <td>NaN</td>\n",
              "      <td>NaN</td>\n",
              "      <td>NaN</td>\n",
              "      <td>Dr STGR</td>\n",
              "    </tr>\n",
              "    <tr>\n",
              "      <th>1</th>\n",
              "      <td>2</td>\n",
              "      <td>-325</td>\n",
              "      <td>0</td>\n",
              "      <td>0.0</td>\n",
              "      <td>NaN</td>\n",
              "      <td>NaN</td>\n",
              "      <td>7.5000</td>\n",
              "      <td>7.5</td>\n",
              "      <td>NaN</td>\n",
              "      <td>6.969202899</td>\n",
              "      <td>7.260619977</td>\n",
              "      <td>7.427072403</td>\n",
              "      <td>71</td>\n",
              "      <td>24</td>\n",
              "      <td>0.0</td>\n",
              "      <td>NaN</td>\n",
              "      <td>NaN</td>\n",
              "      <td>NaN</td>\n",
              "      <td>NaN</td>\n",
              "      <td>Dr STGR</td>\n",
              "    </tr>\n",
              "    <tr>\n",
              "      <th>2</th>\n",
              "      <td>3</td>\n",
              "      <td>25</td>\n",
              "      <td>0</td>\n",
              "      <td>0.0</td>\n",
              "      <td>NaN</td>\n",
              "      <td>NaN</td>\n",
              "      <td>7.5000</td>\n",
              "      <td>7.5</td>\n",
              "      <td>NaN</td>\n",
              "      <td>6.969202899</td>\n",
              "      <td>7.260619977</td>\n",
              "      <td>7.427072403</td>\n",
              "      <td>72.9</td>\n",
              "      <td>33.72</td>\n",
              "      <td>0.0</td>\n",
              "      <td>NaN</td>\n",
              "      <td>NaN</td>\n",
              "      <td>NaN</td>\n",
              "      <td>NaN</td>\n",
              "      <td>Dr STGR</td>\n",
              "    </tr>\n",
              "    <tr>\n",
              "      <th>3</th>\n",
              "      <td>4</td>\n",
              "      <td>26</td>\n",
              "      <td>5</td>\n",
              "      <td>10.0</td>\n",
              "      <td>08.19.10.0</td>\n",
              "      <td>NaN</td>\n",
              "      <td>6.1397</td>\n",
              "      <td>6.1397</td>\n",
              "      <td>5.737047101</td>\n",
              "      <td>5.737047101</td>\n",
              "      <td>5.698851894</td>\n",
              "      <td>5.999685205</td>\n",
              "      <td>17.3</td>\n",
              "      <td>80.1</td>\n",
              "      <td>NaN</td>\n",
              "      <td>NaN</td>\n",
              "      <td>NaN</td>\n",
              "      <td>NaN</td>\n",
              "      <td>NaN</td>\n",
              "      <td>NEIC</td>\n",
              "    </tr>\n",
              "    <tr>\n",
              "      <th>4</th>\n",
              "      <td>5</td>\n",
              "      <td>26</td>\n",
              "      <td>5</td>\n",
              "      <td>10.0</td>\n",
              "      <td>08.19.10.0</td>\n",
              "      <td>NaN</td>\n",
              "      <td>6.1397</td>\n",
              "      <td>6.1397</td>\n",
              "      <td>5.737047101</td>\n",
              "      <td>5.737047101</td>\n",
              "      <td>6.075520196</td>\n",
              "      <td>5.999685205</td>\n",
              "      <td>26</td>\n",
              "      <td>97</td>\n",
              "      <td>80.0</td>\n",
              "      <td>NaN</td>\n",
              "      <td>NaN</td>\n",
              "      <td>NaN</td>\n",
              "      <td>Myanmar</td>\n",
              "      <td>G-R</td>\n",
              "    </tr>\n",
              "  </tbody>\n",
              "</table>\n",
              "</div>"
            ],
            "text/plain": [
              "   sl. no.  year month  date  ... mmi mme  location reference\n",
              "0        1 -2474     0   0.0  ... NaN NaN       NaN   Dr STGR\n",
              "1        2  -325     0   0.0  ... NaN NaN       NaN   Dr STGR\n",
              "2        3    25     0   0.0  ... NaN NaN       NaN   Dr STGR\n",
              "3        4    26     5  10.0  ... NaN NaN       NaN      NEIC\n",
              "4        5    26     5  10.0  ... NaN NaN   Myanmar       G-R\n",
              "\n",
              "[5 rows x 20 columns]"
            ]
          },
          "metadata": {}
        },
        {
          "output_type": "stream",
          "name": "stdout",
          "text": [
            "<class 'pandas.core.frame.DataFrame'>\n",
            "RangeIndex: 52989 entries, 0 to 52988\n",
            "Data columns (total 20 columns):\n",
            " #   Column             Non-Null Count  Dtype  \n",
            "---  ------             --------------  -----  \n",
            " 0   sl. no.            52989 non-null  int64  \n",
            " 1   year               52989 non-null  int64  \n",
            " 2   month              52971 non-null  object \n",
            " 3   date               52932 non-null  float64\n",
            " 4   origin time (utc)  21186 non-null  object \n",
            " 5   origin time (ist)  426 non-null    object \n",
            " 6   magnitude          40935 non-null  float64\n",
            " 7   mw                 50485 non-null  object \n",
            " 8   mb                 12283 non-null  object \n",
            " 9   m_b                50497 non-null  object \n",
            " 10  ms                 52823 non-null  object \n",
            " 11  ml                 52823 non-null  object \n",
            " 12  lat (n)            52989 non-null  object \n",
            " 13  long (e)           52989 non-null  object \n",
            " 14  depth (km)         50811 non-null  float64\n",
            " 15  intensity mm       41 non-null     object \n",
            " 16  mmi                0 non-null      float64\n",
            " 17  mme                0 non-null      float64\n",
            " 18  location           9374 non-null   object \n",
            " 19  reference          51407 non-null  object \n",
            "dtypes: float64(5), int64(2), object(13)\n",
            "memory usage: 8.1+ MB\n"
          ]
        },
        {
          "output_type": "display_data",
          "data": {
            "text/plain": [
              "None"
            ]
          },
          "metadata": {}
        },
        {
          "output_type": "display_data",
          "data": {
            "text/html": [
              "<div>\n",
              "<style scoped>\n",
              "    .dataframe tbody tr th:only-of-type {\n",
              "        vertical-align: middle;\n",
              "    }\n",
              "\n",
              "    .dataframe tbody tr th {\n",
              "        vertical-align: top;\n",
              "    }\n",
              "\n",
              "    .dataframe thead th {\n",
              "        text-align: right;\n",
              "    }\n",
              "</style>\n",
              "<table border=\"1\" class=\"dataframe\">\n",
              "  <thead>\n",
              "    <tr style=\"text-align: right;\">\n",
              "      <th></th>\n",
              "      <th>sl. no.</th>\n",
              "      <th>year</th>\n",
              "      <th>date</th>\n",
              "      <th>magnitude</th>\n",
              "      <th>depth (km)</th>\n",
              "      <th>mmi</th>\n",
              "      <th>mme</th>\n",
              "    </tr>\n",
              "  </thead>\n",
              "  <tbody>\n",
              "    <tr>\n",
              "      <th>count</th>\n",
              "      <td>52989.000000</td>\n",
              "      <td>52989.000000</td>\n",
              "      <td>52932.000000</td>\n",
              "      <td>40935.000000</td>\n",
              "      <td>50811.000000</td>\n",
              "      <td>0.0</td>\n",
              "      <td>0.0</td>\n",
              "    </tr>\n",
              "    <tr>\n",
              "      <th>mean</th>\n",
              "      <td>26480.004246</td>\n",
              "      <td>1991.584669</td>\n",
              "      <td>16.393958</td>\n",
              "      <td>4.537564</td>\n",
              "      <td>45.569867</td>\n",
              "      <td>NaN</td>\n",
              "      <td>NaN</td>\n",
              "    </tr>\n",
              "    <tr>\n",
              "      <th>std</th>\n",
              "      <td>15296.743693</td>\n",
              "      <td>41.964962</td>\n",
              "      <td>8.969178</td>\n",
              "      <td>0.625875</td>\n",
              "      <td>55.517009</td>\n",
              "      <td>NaN</td>\n",
              "      <td>NaN</td>\n",
              "    </tr>\n",
              "    <tr>\n",
              "      <th>min</th>\n",
              "      <td>1.000000</td>\n",
              "      <td>-2474.000000</td>\n",
              "      <td>0.000000</td>\n",
              "      <td>2.000000</td>\n",
              "      <td>0.000000</td>\n",
              "      <td>NaN</td>\n",
              "      <td>NaN</td>\n",
              "    </tr>\n",
              "    <tr>\n",
              "      <th>25%</th>\n",
              "      <td>13233.000000</td>\n",
              "      <td>1986.000000</td>\n",
              "      <td>9.000000</td>\n",
              "      <td>4.200000</td>\n",
              "      <td>10.000000</td>\n",
              "      <td>NaN</td>\n",
              "      <td>NaN</td>\n",
              "    </tr>\n",
              "    <tr>\n",
              "      <th>50%</th>\n",
              "      <td>26480.000000</td>\n",
              "      <td>1999.000000</td>\n",
              "      <td>16.000000</td>\n",
              "      <td>4.400000</td>\n",
              "      <td>33.000000</td>\n",
              "      <td>NaN</td>\n",
              "      <td>NaN</td>\n",
              "    </tr>\n",
              "    <tr>\n",
              "      <th>75%</th>\n",
              "      <td>39727.000000</td>\n",
              "      <td>2005.000000</td>\n",
              "      <td>25.000000</td>\n",
              "      <td>4.800000</td>\n",
              "      <td>55.000000</td>\n",
              "      <td>NaN</td>\n",
              "      <td>NaN</td>\n",
              "    </tr>\n",
              "    <tr>\n",
              "      <th>max</th>\n",
              "      <td>52974.000000</td>\n",
              "      <td>2019.000000</td>\n",
              "      <td>31.000000</td>\n",
              "      <td>9.100000</td>\n",
              "      <td>831.200000</td>\n",
              "      <td>NaN</td>\n",
              "      <td>NaN</td>\n",
              "    </tr>\n",
              "  </tbody>\n",
              "</table>\n",
              "</div>"
            ],
            "text/plain": [
              "            sl. no.          year          date  ...    depth (km)  mmi  mme\n",
              "count  52989.000000  52989.000000  52932.000000  ...  50811.000000  0.0  0.0\n",
              "mean   26480.004246   1991.584669     16.393958  ...     45.569867  NaN  NaN\n",
              "std    15296.743693     41.964962      8.969178  ...     55.517009  NaN  NaN\n",
              "min        1.000000  -2474.000000      0.000000  ...      0.000000  NaN  NaN\n",
              "25%    13233.000000   1986.000000      9.000000  ...     10.000000  NaN  NaN\n",
              "50%    26480.000000   1999.000000     16.000000  ...     33.000000  NaN  NaN\n",
              "75%    39727.000000   2005.000000     25.000000  ...     55.000000  NaN  NaN\n",
              "max    52974.000000   2019.000000     31.000000  ...    831.200000  NaN  NaN\n",
              "\n",
              "[8 rows x 7 columns]"
            ]
          },
          "metadata": {}
        }
      ]
    },
    {
      "cell_type": "markdown",
      "metadata": {
        "id": "ynY4Hd3vA7Z_"
      },
      "source": [
        "#**Processing Features**"
      ]
    },
    {
      "cell_type": "markdown",
      "metadata": {
        "id": "xNKTV-NTL7x0"
      },
      "source": [
        "##Target Column : MW  \n",
        "**Moment magnitude (Mw)** : Today the moment magnitude scale is preferred because it works over a wider range of earthquake sizes and is applicable globally. To get a better idea of the strength of the shaking and damage, the Moment Magnitude Scale was developed to capture all the different seismic waves from an earthquake to worldwide seismic networks."
      ]
    },
    {
      "cell_type": "markdown",
      "metadata": {
        "id": "97SJaqxt20HP"
      },
      "source": [
        "Remove rows having empty values in MW column. As MW has to be predicted, we should have the actual ground truth values for all data."
      ]
    },
    {
      "cell_type": "code",
      "metadata": {
        "colab": {
          "base_uri": "https://localhost:8080/",
          "height": 510
        },
        "id": "lQxUOGeCFa6V",
        "outputId": "82f8f651-6737-4ba1-dc5e-1f0a13991794"
      },
      "source": [
        "df_data_org = df_data_org[df_data_org['mw'].notna()]\n",
        "print(df_data_org.shape)\n",
        "display(df_data_org.info())"
      ],
      "execution_count": 36,
      "outputs": [
        {
          "output_type": "stream",
          "name": "stdout",
          "text": [
            "(50485, 20)\n",
            "<class 'pandas.core.frame.DataFrame'>\n",
            "Int64Index: 50485 entries, 0 to 52988\n",
            "Data columns (total 20 columns):\n",
            " #   Column             Non-Null Count  Dtype  \n",
            "---  ------             --------------  -----  \n",
            " 0   sl. no.            50485 non-null  int64  \n",
            " 1   year               50485 non-null  int64  \n",
            " 2   month              50477 non-null  object \n",
            " 3   date               50474 non-null  float64\n",
            " 4   origin time (utc)  19253 non-null  object \n",
            " 5   origin time (ist)  426 non-null    object \n",
            " 6   magnitude          40935 non-null  float64\n",
            " 7   mw                 50485 non-null  object \n",
            " 8   mb                 11423 non-null  object \n",
            " 9   m_b                50484 non-null  object \n",
            " 10  ms                 50484 non-null  object \n",
            " 11  ml                 50484 non-null  object \n",
            " 12  lat (n)            50485 non-null  object \n",
            " 13  long (e)           50485 non-null  object \n",
            " 14  depth (km)         49228 non-null  float64\n",
            " 15  intensity mm       26 non-null     object \n",
            " 16  mmi                0 non-null      float64\n",
            " 17  mme                0 non-null      float64\n",
            " 18  location           8854 non-null   object \n",
            " 19  reference          48903 non-null  object \n",
            "dtypes: float64(5), int64(2), object(13)\n",
            "memory usage: 8.1+ MB\n"
          ]
        },
        {
          "output_type": "display_data",
          "data": {
            "text/plain": [
              "None"
            ]
          },
          "metadata": {}
        }
      ]
    },
    {
      "cell_type": "markdown",
      "metadata": {
        "id": "CQ4RkD-T3M-3"
      },
      "source": [
        "Observe if any invalid value exists in MW column. Eg: '#VALUE!' exists."
      ]
    },
    {
      "cell_type": "code",
      "metadata": {
        "colab": {
          "base_uri": "https://localhost:8080/"
        },
        "id": "rgGNmA4HWBhX",
        "outputId": "3ccc7672-485b-4d78-a7fb-8519cc8bcfbe"
      },
      "source": [
        "print(df_data_org['mw'].unique())"
      ],
      "execution_count": 37,
      "outputs": [
        {
          "output_type": "stream",
          "name": "stdout",
          "text": [
            "['7.5' '6.1397' '7' '6.5' '8.5' '8' '7.3' '5.6' '7.7' '7.6' '7.0' '5.9'\n",
            " '6.4' '8.0' '5.0' '6.8' '5.7' '7.8' '3.7' '7.2' '5.8' '4.3' '6.0' '5.2'\n",
            " '4.5' '4.6' '5.5' '4.4' '6.3' '4.9' '4.2' '4.7' '5.3' '3.8' '4.1' '3.3'\n",
            " '6' '3.2' '5' '3.5' '6.1' '4' '8.1' '6.2' '6.7' '6.6393' '6.95155'\n",
            " '5.3903' '8.7' '7.2638' '6.57685' '6.70175' '6.0148' '7.014' '6.82665'\n",
            " '5.70255' '7.1' '5.765' '6.32705' '5.1' '5.4' '8.3' '6.5144' '6.7642'\n",
            " '6.9' '3' '7.1389' '6.45195' '6.2646' '6.6' '4.8907' '5.2654' '5.8899'\n",
            " '5.5152' '6.07725' '5.6401' '4.8' '5.82745' '5.95235' '5.45275' '5.20295'\n",
            " '5.57765' '5.07805' '9.1' '4.0' '4.0805' '6.2539' '5.38454' '4.94986'\n",
            " '5.49321' '6.03656' '5.1672' '5.60188' '5.71055' '5.27587' '5.81922'\n",
            " '4.62385' '5.05853' '6.14523' '4.51518' '4.84119' '4.32033469'\n",
            " '4.51594069' '5.10275869' '4.71154669' '4.40651' '4.73252' '5.92789'\n",
            " '6.36257' '3.9' '6.68858' '3.4' '6.091994445' '4.61374369' '4.80934969'\n",
            " '5.5468' '5.1052' '4.222' '5.4364' '4.774' '4.6636' '5.326' '5.9884'\n",
            " '5.6572' '4.1116' '4.4428' '4.5532' '5.2156' '4.3324' '4.29784'\n",
            " '5.841170265' '6.3196' '6.0988' '7.4236' '5.7676' '4.8844' '4.9948'\n",
            " '5.878' '3.7804' '4.18917' '5.32785' '3.83131969' '4.0012' '6.43'\n",
            " '6.5404' '5.1405' '3.8908' '6.6508' '7.3132' '6.2092' '6.7612' '3.118'\n",
            " '6.982' '7.2028' '6.8716' '3.4492' '3.2284' '4.02692569' '5.715758175'\n",
            " '7.534' '4.41813769' '4.82825' '3.67' '4.95315' '2.8' '4.7658' '5.0156'\n",
            " '2.6' '4.70335' '3.1' '3.6' '3.75449' '2.9' '7.0924' '2.7' '3.5596'\n",
            " '4.516' '4.74679022' '3.86316' '3.92912269' '5.20056169' '3.97183'\n",
            " '4.70131413' '3.44010769' '2' '4.88321849' '4.90715269' '3.3388'\n",
            " '4.8377424' '7.8652' '1.7932' '#VALUE!' '4.79226631' '3.53791069'\n",
            " '3.53715' '4.65583804' '3.64582' '4.12472869' '3.42848' '4.42845759'\n",
            " '1.6828' '4.6409' '4.22253169' '4.29202932' '3.31981' '3.10247' '7.6444'\n",
            " '4.3911' '4.32865' '3.82905' '4.1413' '4.45355' '4.57845' '8.5276'\n",
            " '5.7594' '4.2662' '4.20375' '4.07885' '2.5' '3.8915' '8.638' '3.21114'\n",
            " '2.9938' 4.1 4.3 4.4 5.2 4.9 4.7 5.0 4.6 4.5 4.8 5.7 4.0 4.2 3.9 6.2 5.5\n",
            " 5.4 5.9 6.0 5.3 5.1 5.6 5.8 6.5 3.8631599999999997 5.2156 4.5532 4.4428\n",
            " 4.3324 4.774 3.75449 4.8844 4.45355 4.1116 4.0805 3.6458199999999996\n",
            " 4.18917 4.2219999999999995 3.97183 4.6636 4.29784 3.31981 4.516\n",
            " 5.877999999999999 5.7676 4.9948 4.8907 3.4284800000000004 5.1052 5.4364\n",
            " 3.8908 4.73252 5.3260000000000005 5.9884 3.53715 4.84119\n",
            " 3.2111400000000003 6.43 4.0012 3.67 5.6572 5.5468 4.3911 4.20375 4.7658\n",
            " 4.1413 4.32865 4.70335 6.6508 3.1024700000000003 4.57845 4.82825 6.3196\n",
            " 3.7804 6.0988 3.5596 6.2092 4.07885 4.95315 5.0156 4.40651 5.71055 6.5404\n",
            " 8.086 7.0924 6.7612 3.0 7.8 6.4 6.3 8.0 6.1 6.8716 4.71154669 4.41813769\n",
            " 3.83131969 4.32033469 3.53791069 3.73351669 4.22253169 4.61374369\n",
            " 3.92912269 3.4492 4.02692569 4.12472869 4.90715269 4.80934969 4.51594069\n",
            " 8.3068 3.3388 3.63571369 3.2284 3.0076 5.00495569 3.1180000000000003 7.0\n",
            " 8.4 6.8 7.3 9.1 3.5 3.4 7.1 3.2 5.605796215 5.20056169 6.6 3.7 3.1 3.6\n",
            " 7.2 2.5 3.8 2.8 3.3 2.3 7.5 6.9 4.03019684 8.1 7.4 6.7 2.9 2.7 4.22481284\n",
            " 2.2 2.1 7.9 7.7 8.3 2.6 7.6 9.0 8.5]\n"
          ]
        }
      ]
    },
    {
      "cell_type": "markdown",
      "metadata": {
        "id": "b8twuxDY3YaZ"
      },
      "source": [
        "Remove those invalid values from the MW column."
      ]
    },
    {
      "cell_type": "code",
      "metadata": {
        "colab": {
          "base_uri": "https://localhost:8080/"
        },
        "id": "yZK30oqTWaM3",
        "outputId": "32925f3a-2ff4-4b18-a8a5-cc23c2eef7b0"
      },
      "source": [
        "df_data_org = df_data_org.loc[df_data_org['mw'] != '#VALUE!']\n",
        "df_data_org['mw'] = df_data_org['mw'].apply(lambda x: round(float(x),1))\n",
        "print(df_data_org.shape)\n",
        "print(df_data_org['mw'][:10])"
      ],
      "execution_count": 38,
      "outputs": [
        {
          "output_type": "stream",
          "name": "stdout",
          "text": [
            "(50482, 20)\n",
            "0    7.5\n",
            "1    7.5\n",
            "2    7.5\n",
            "3    6.1\n",
            "4    6.1\n",
            "5    7.0\n",
            "6    6.5\n",
            "7    8.5\n",
            "8    8.0\n",
            "9    7.3\n",
            "Name: mw, dtype: float64\n"
          ]
        }
      ]
    },
    {
      "cell_type": "markdown",
      "metadata": {
        "id": "wJapxzGE3gSs"
      },
      "source": [
        "##Processing Month  \n",
        "Month may give us the information regarding which season / part of the year do earthquakes occur frequently.\n",
        "\n",
        "Check if month column has any invalid values. Eg: 0, space and NaN."
      ]
    },
    {
      "cell_type": "code",
      "metadata": {
        "colab": {
          "base_uri": "https://localhost:8080/"
        },
        "id": "6-oRmpMWZmM1",
        "outputId": "7ca38d4e-2b9b-4e04-c070-4b4c0b932277"
      },
      "source": [
        "print(df_data_org['month'].unique())"
      ],
      "execution_count": 39,
      "outputs": [
        {
          "output_type": "stream",
          "name": "stdout",
          "text": [
            "['0' '5' '6' '00' '02' '09' '06' '07' '10' '01' nan '03' '05' '12' '04'\n",
            " '08' '11' '1' '8' '7' '2' '3' '4' '9' ' ' 1.0 2.0 3.0 4.0 5.0 6.0 7.0 8.0\n",
            " 9.0 10.0 11.0 12.0]\n"
          ]
        }
      ]
    },
    {
      "cell_type": "markdown",
      "metadata": {
        "id": "wxnk1TS33zNt"
      },
      "source": [
        "Remove the invalid values from month column and convert valid values to numeric format. Replace the NaN values with the median."
      ]
    },
    {
      "cell_type": "code",
      "metadata": {
        "colab": {
          "base_uri": "https://localhost:8080/"
        },
        "id": "z3A1aJDLX4Ii",
        "outputId": "c2cbbc50-3c20-4a40-f95d-adb0c05f3796"
      },
      "source": [
        "df_data_org['month'] = df_data_org['month'].apply(lambda x: float(x) if (pd.notna(x) and (x != ' ')) else np.NaN)\n",
        "df_data_org['month'] = df_data_org['month'].apply(lambda x: float(1) if (x == 0) else x)\n",
        "df_data_org['month'].fillna(df_data_org['month'].median(), inplace = True)\n",
        "# df_data_org['month'] = df_data_org['month'].astype(int)\n",
        "print(df_data_org['month'].value_counts())"
      ],
      "execution_count": 40,
      "outputs": [
        {
          "output_type": "stream",
          "name": "stdout",
          "text": [
            "1.0     6208\n",
            "12.0    5172\n",
            "3.0     4496\n",
            "10.0    4446\n",
            "4.0     4247\n",
            "7.0     3967\n",
            "2.0     3908\n",
            "5.0     3824\n",
            "8.0     3798\n",
            "11.0    3651\n",
            "6.0     3430\n",
            "9.0     3335\n",
            "Name: month, dtype: int64\n"
          ]
        }
      ]
    },
    {
      "cell_type": "markdown",
      "metadata": {
        "id": "TrMQ-lAD4IOi"
      },
      "source": [
        "As year column has only 2 negative values, remove the respecive rows from the dataset."
      ]
    },
    {
      "cell_type": "code",
      "metadata": {
        "colab": {
          "base_uri": "https://localhost:8080/"
        },
        "id": "BPWZpexjd4GU",
        "outputId": "b7f44b86-516a-4ff2-a5de-b7129279ff36"
      },
      "source": [
        "print(df_data_org[df_data_org['year']<=0]['year'].value_counts())\n",
        "df_data_org = df_data_org[df_data_org['year']>0]\n",
        "print(df_data_org.shape)"
      ],
      "execution_count": 41,
      "outputs": [
        {
          "output_type": "stream",
          "name": "stdout",
          "text": [
            "-2474    1\n",
            "-325     1\n",
            "Name: year, dtype: int64\n",
            "(50480, 20)\n"
          ]
        }
      ]
    },
    {
      "cell_type": "markdown",
      "metadata": {
        "id": "BCjcp-up6H_f"
      },
      "source": [
        "##Processing Latitude and Longitude\n",
        "\n",
        "**Latitude & Longitude** : are the units that represent the coordinates at geographic coordinate system. Both longitude and latitude are angles measured with the center of the earth as an origin.  \n",
        "  \n",
        "**Latitude** : Latitudes measure an angle up from the equator (latitudes to the south are negative). Range is 0 to 90 degrees in the North and 0 to -90 degrees in the South.   \n",
        "\n",
        "**Longitude** : A longitude is an angle from the prime merdian, measured to the east (longitudes to the west are negative). Range is 0 to 180 degrees in the East and 0 to -180 degrees in the West.  \n",
        "\n",
        "Hence, latitudes and longitudes can tell us which locations are prone to earthquakes."
      ]
    },
    {
      "cell_type": "markdown",
      "metadata": {
        "id": "ozjlbiBf7eqf"
      },
      "source": [
        "Few values in latitude column have the directions N and S mentioned, while others have only float values which are by default considered to be in the North (as mentioned in the heading)"
      ]
    },
    {
      "cell_type": "code",
      "metadata": {
        "colab": {
          "base_uri": "https://localhost:8080/"
        },
        "id": "F3x_UzVqdEu5",
        "outputId": "2eabfbcf-257a-4a73-a344-357502747c3b"
      },
      "source": [
        "print(df_data_org['lat (n)'].unique())"
      ],
      "execution_count": 42,
      "outputs": [
        {
          "output_type": "stream",
          "name": "stdout",
          "text": [
            "[72.9 17.3 26.0 ... '12.1°N' '20.0°N' '31.8°N']\n"
          ]
        }
      ]
    },
    {
      "cell_type": "markdown",
      "metadata": {
        "id": "237hJucS75Nv"
      },
      "source": [
        "Convert the South values to North by negating them. Then extract the float values from the strings and convert everything to float. There are a few rows with latitude values out of range (>90) in the positive side. Replace them with 90-(X-90) as they are only a little out of range (till 100). (Eg: 100 will be converted to 80 degrees). There are no out of range values on the negatve side."
      ]
    },
    {
      "cell_type": "code",
      "metadata": {
        "colab": {
          "base_uri": "https://localhost:8080/",
          "height": 510
        },
        "id": "kQXeSbqIeDr4",
        "outputId": "50e1df28-e9e9-47ec-8f7c-79bc80323c2e"
      },
      "source": [
        "rgx = r\"[-+]?\\d*\\.\\d+|\\d+\"\n",
        "df_data_org['lat (n)'] = df_data_org['lat (n)'].apply(lambda x: round(float(x),1) if (pd.notna(x) and type(x)!=str) else x)\n",
        "df_data_org['lat (n)'] = df_data_org['lat (n)'].apply(lambda x: round(-float(re.findall(rgx,x)[0]),1) if (pd.notna(x) and type(x)==str and ('S' in x or 's' in x)) else x)\n",
        "df_data_org['lat (n)'] =  df_data_org['lat (n)'].apply(lambda x: round(float(re.findall(rgx,x)[0]),1) if (pd.notna(x) and type(x)==str) else x)\n",
        "display(df_data_org['lat (n)'].describe())\n",
        "print()\n",
        "display(df_data_org[df_data_org['lat (n)']>90]['lat (n)'].describe())\n",
        "print()\n",
        "df_data_org['lat (n)'] = df_data_org['lat (n)'].apply(lambda x: round(90-(x-90),1) if (pd.notna(x) and x > 90) else x)\n",
        "df_data_org['lat (n)'].fillna(df_data_org['lat (n)'].mode(), inplace = True)\n",
        "display(df_data_org['lat (n)'].describe())"
      ],
      "execution_count": 43,
      "outputs": [
        {
          "output_type": "display_data",
          "data": {
            "text/plain": [
              "count    50480.000000\n",
              "mean        59.264859\n",
              "std         31.110017\n",
              "min        -60.700000\n",
              "25%         27.500000\n",
              "50%         70.800000\n",
              "75%         91.800000\n",
              "max        100.000000\n",
              "Name: lat (n), dtype: float64"
            ]
          },
          "metadata": {}
        },
        {
          "output_type": "stream",
          "name": "stdout",
          "text": [
            "\n"
          ]
        },
        {
          "output_type": "display_data",
          "data": {
            "text/plain": [
              "count    13512.000000\n",
              "mean        94.587034\n",
              "std          2.018319\n",
              "min         90.100000\n",
              "25%         93.200000\n",
              "50%         94.300000\n",
              "75%         95.800000\n",
              "max        100.000000\n",
              "Name: lat (n), dtype: float64"
            ]
          },
          "metadata": {}
        },
        {
          "output_type": "stream",
          "name": "stdout",
          "text": [
            "\n"
          ]
        },
        {
          "output_type": "display_data",
          "data": {
            "text/plain": [
              "count    50480.000000\n",
              "mean        56.809233\n",
              "std         28.475462\n",
              "min        -60.700000\n",
              "25%         27.500000\n",
              "50%         70.800000\n",
              "75%         83.700000\n",
              "max         90.000000\n",
              "Name: lat (n), dtype: float64"
            ]
          },
          "metadata": {}
        }
      ]
    },
    {
      "cell_type": "markdown",
      "metadata": {
        "id": "jcwmU7_9-KG4"
      },
      "source": [
        "Few values in longitude column have the directions E and W mentioned, while others have only float values which are by default considered to be in the East (as mentioned in the heading)"
      ]
    },
    {
      "cell_type": "code",
      "metadata": {
        "colab": {
          "base_uri": "https://localhost:8080/"
        },
        "id": "JFxERzONfXrM",
        "outputId": "26cb325f-a3f2-41b4-9bc8-a691b5fda5c0"
      },
      "source": [
        "print(df_data_org['long (e)'].unique())"
      ],
      "execution_count": 44,
      "outputs": [
        {
          "output_type": "stream",
          "name": "stdout",
          "text": [
            "[33.72 80.1 97.0 ... '73.0°E' '86.5°E' '72.8°E']\n"
          ]
        }
      ]
    },
    {
      "cell_type": "markdown",
      "metadata": {
        "id": "AFHHC1w1-UTx"
      },
      "source": [
        "Convert the West values to East by negating them. Then extract the float values from the strings and convert everything to float. There is only one row with longitude value out of range (>180) in the positive side. Replace it with X%180 as it is too much out of range (9128), which is most probably an error. There are no out of range values on the negatve side."
      ]
    },
    {
      "cell_type": "code",
      "metadata": {
        "colab": {
          "base_uri": "https://localhost:8080/",
          "height": 510
        },
        "id": "vFgnxD2ljDEc",
        "outputId": "990cbe36-8fb1-4808-aba0-3471587de081"
      },
      "source": [
        "df_data_org['long (e)'] = df_data_org['long (e)'].apply(lambda x: round(float(x),1) if (pd.notna(x) and type(x)!=str) else x)\n",
        "df_data_org['long (e)'] = df_data_org['long (e)'].apply(lambda x: round(-float(re.findall(rgx,x)[0]),1) if (pd.notna(x) and type(x)==str and ('W' in x or 'w' in x)) else x)\n",
        "df_data_org['long (e)'] =  df_data_org['long (e)'].apply(lambda x: round(float(re.findall(rgx,x)[0]),1) if (pd.notna(x) and type(x)==str) else x)\n",
        "display(df_data_org['long (e)'].describe())\n",
        "print()\n",
        "display(df_data_org[df_data_org['long (e)']>180]['long (e)'].describe())\n",
        "print()\n",
        "df_data_org['long (e)'] = df_data_org['long (e)'].apply(lambda x: round(x%180,1) if (pd.notna(x) and x > 180) else x)\n",
        "df_data_org['long (e)'].fillna(round(df_data_org['long (e)'].mode(),1), inplace = True)\n",
        "display(df_data_org['long (e)'].describe())"
      ],
      "execution_count": 45,
      "outputs": [
        {
          "output_type": "display_data",
          "data": {
            "text/plain": [
              "count    50480.000000\n",
              "mean        50.357474\n",
              "std         53.189495\n",
              "min       -179.700000\n",
              "25%         26.100000\n",
              "50%         36.900000\n",
              "75%         90.000000\n",
              "max       9128.200000\n",
              "Name: long (e), dtype: float64"
            ]
          },
          "metadata": {}
        },
        {
          "output_type": "stream",
          "name": "stdout",
          "text": [
            "\n"
          ]
        },
        {
          "output_type": "display_data",
          "data": {
            "text/plain": [
              "count       1.0\n",
              "mean     9128.2\n",
              "std         NaN\n",
              "min      9128.2\n",
              "25%      9128.2\n",
              "50%      9128.2\n",
              "75%      9128.2\n",
              "max      9128.2\n",
              "Name: long (e), dtype: float64"
            ]
          },
          "metadata": {}
        },
        {
          "output_type": "stream",
          "name": "stdout",
          "text": [
            "\n"
          ]
        },
        {
          "output_type": "display_data",
          "data": {
            "text/plain": [
              "count    50480.000000\n",
              "mean        50.179186\n",
              "std         34.593432\n",
              "min       -179.700000\n",
              "25%         26.100000\n",
              "50%         36.900000\n",
              "75%         90.000000\n",
              "max        179.900000\n",
              "Name: long (e), dtype: float64"
            ]
          },
          "metadata": {}
        }
      ]
    },
    {
      "cell_type": "markdown",
      "metadata": {
        "id": "J0K0ZXE---1-"
      },
      "source": [
        "##Processing Depth\n",
        "\n",
        "**Depth** : Shallow earthquakes are between 0 and 70 km deep; intermediate earthquakes, 70 - 300 km deep; and deep earthquakes, 300 - 700 km deep. In general, deeper earthquakes are less damaging because their energy dissipates before it reaches the surface.  \n",
        "\n",
        "Depth of the earthquake can tell us the intensity of the earthquake.\n",
        "  \n",
        "Replace the null depth values with the median."
      ]
    },
    {
      "cell_type": "code",
      "metadata": {
        "id": "tF02XbMHjg1O"
      },
      "source": [
        "df_data_org['depth (km)'].fillna(round(df_data_org['depth (km)'].median(),1), inplace = True)"
      ],
      "execution_count": 46,
      "outputs": []
    },
    {
      "cell_type": "markdown",
      "metadata": {
        "id": "rI5h-_4ABOE_"
      },
      "source": [
        "#**Haversine Distance**  \n",
        "\n",
        "The Haversine formula calculates the shortest distance between two points on a sphere using their latitudes and longitudes measured along the surface. It is important for use in navigation. "
      ]
    },
    {
      "cell_type": "markdown",
      "metadata": {
        "id": "Sc_2a8m4BQEz"
      },
      "source": [
        "As latitudes and longitudes are given in degrees, they cannot be directly used for calculating distances between 2 points using Euclidean distance along with other features (eg. in KNN). Eg: Longitude 180E and -180E (actual West) are the same points but L1 distance between them would come as 360. Hence, we need to convert degrees to a format suitable for taking euclid distance.  \n",
        "  \n",
        "Here, we create a new column called geo_dist which calculates and stores Haversine distance (int miles) of each point from the origin (0,0). These values can further be used to get difference between 2 locations with the actual latitude and longitude columns."
      ]
    },
    {
      "cell_type": "code",
      "metadata": {
        "colab": {
          "base_uri": "https://localhost:8080/"
        },
        "id": "ToRRlVe0plZ_",
        "outputId": "5b158144-191d-4f89-bbc4-d68958580521"
      },
      "source": [
        "df_dist = []\n",
        "origin = (0,0)\n",
        "for i, row in df_data_org.iterrows():\n",
        "    cur_loc = (row['lat (n)'],row['long (e)'])\n",
        "    df_dist.append(haversine(origin, cur_loc, unit=Unit.MILES))\n",
        "df_data_org['geo_dist'] = df_dist\n",
        "print(df_data_org['geo_dist'].describe())"
      ],
      "execution_count": 47,
      "outputs": [
        {
          "output_type": "stream",
          "name": "stdout",
          "text": [
            "count    50480.000000\n",
            "mean      5816.092705\n",
            "std        638.647131\n",
            "min       2432.055157\n",
            "25%       5266.089958\n",
            "50%       5873.625518\n",
            "75%       6224.439076\n",
            "max      11287.684246\n",
            "Name: geo_dist, dtype: float64\n"
          ]
        }
      ]
    },
    {
      "cell_type": "code",
      "metadata": {
        "colab": {
          "base_uri": "https://localhost:8080/",
          "height": 1000
        },
        "id": "I9BJvsjyj3iP",
        "outputId": "0790cee0-cb9f-44a9-c722-f48f86ba2914"
      },
      "source": [
        "print(df_data_org.shape)\n",
        "display(df_data_org.head())\n",
        "display(df_data_org.info())\n",
        "display(df_data_org.describe())"
      ],
      "execution_count": 48,
      "outputs": [
        {
          "output_type": "stream",
          "name": "stdout",
          "text": [
            "(50480, 21)\n"
          ]
        },
        {
          "output_type": "display_data",
          "data": {
            "text/html": [
              "<div>\n",
              "<style scoped>\n",
              "    .dataframe tbody tr th:only-of-type {\n",
              "        vertical-align: middle;\n",
              "    }\n",
              "\n",
              "    .dataframe tbody tr th {\n",
              "        vertical-align: top;\n",
              "    }\n",
              "\n",
              "    .dataframe thead th {\n",
              "        text-align: right;\n",
              "    }\n",
              "</style>\n",
              "<table border=\"1\" class=\"dataframe\">\n",
              "  <thead>\n",
              "    <tr style=\"text-align: right;\">\n",
              "      <th></th>\n",
              "      <th>sl. no.</th>\n",
              "      <th>year</th>\n",
              "      <th>month</th>\n",
              "      <th>date</th>\n",
              "      <th>origin time (utc)</th>\n",
              "      <th>origin time (ist)</th>\n",
              "      <th>magnitude</th>\n",
              "      <th>mw</th>\n",
              "      <th>mb</th>\n",
              "      <th>m_b</th>\n",
              "      <th>ms</th>\n",
              "      <th>ml</th>\n",
              "      <th>lat (n)</th>\n",
              "      <th>long (e)</th>\n",
              "      <th>depth (km)</th>\n",
              "      <th>intensity mm</th>\n",
              "      <th>mmi</th>\n",
              "      <th>mme</th>\n",
              "      <th>location</th>\n",
              "      <th>reference</th>\n",
              "      <th>geo_dist</th>\n",
              "    </tr>\n",
              "  </thead>\n",
              "  <tbody>\n",
              "    <tr>\n",
              "      <th>2</th>\n",
              "      <td>3</td>\n",
              "      <td>25</td>\n",
              "      <td>1.0</td>\n",
              "      <td>0.0</td>\n",
              "      <td>NaN</td>\n",
              "      <td>NaN</td>\n",
              "      <td>7.5000</td>\n",
              "      <td>7.5</td>\n",
              "      <td>NaN</td>\n",
              "      <td>6.969202899</td>\n",
              "      <td>7.260619977</td>\n",
              "      <td>7.427072403</td>\n",
              "      <td>72.9</td>\n",
              "      <td>33.7</td>\n",
              "      <td>0.0</td>\n",
              "      <td>NaN</td>\n",
              "      <td>NaN</td>\n",
              "      <td>NaN</td>\n",
              "      <td>NaN</td>\n",
              "      <td>Dr STGR</td>\n",
              "      <td>5240.055003</td>\n",
              "    </tr>\n",
              "    <tr>\n",
              "      <th>3</th>\n",
              "      <td>4</td>\n",
              "      <td>26</td>\n",
              "      <td>5.0</td>\n",
              "      <td>10.0</td>\n",
              "      <td>08.19.10.0</td>\n",
              "      <td>NaN</td>\n",
              "      <td>6.1397</td>\n",
              "      <td>6.1</td>\n",
              "      <td>5.737047101</td>\n",
              "      <td>5.737047101</td>\n",
              "      <td>5.698851894</td>\n",
              "      <td>5.999685205</td>\n",
              "      <td>17.3</td>\n",
              "      <td>80.1</td>\n",
              "      <td>33.0</td>\n",
              "      <td>NaN</td>\n",
              "      <td>NaN</td>\n",
              "      <td>NaN</td>\n",
              "      <td>NaN</td>\n",
              "      <td>NEIC</td>\n",
              "      <td>5565.618141</td>\n",
              "    </tr>\n",
              "    <tr>\n",
              "      <th>4</th>\n",
              "      <td>5</td>\n",
              "      <td>26</td>\n",
              "      <td>5.0</td>\n",
              "      <td>10.0</td>\n",
              "      <td>08.19.10.0</td>\n",
              "      <td>NaN</td>\n",
              "      <td>6.1397</td>\n",
              "      <td>6.1</td>\n",
              "      <td>5.737047101</td>\n",
              "      <td>5.737047101</td>\n",
              "      <td>6.075520196</td>\n",
              "      <td>5.999685205</td>\n",
              "      <td>26.0</td>\n",
              "      <td>97.0</td>\n",
              "      <td>80.0</td>\n",
              "      <td>NaN</td>\n",
              "      <td>NaN</td>\n",
              "      <td>NaN</td>\n",
              "      <td>Myanmar</td>\n",
              "      <td>G-R</td>\n",
              "      <td>6652.904246</td>\n",
              "    </tr>\n",
              "    <tr>\n",
              "      <th>5</th>\n",
              "      <td>6</td>\n",
              "      <td>50</td>\n",
              "      <td>1.0</td>\n",
              "      <td>0.0</td>\n",
              "      <td>NaN</td>\n",
              "      <td>NaN</td>\n",
              "      <td>7.0000</td>\n",
              "      <td>7.0</td>\n",
              "      <td>NaN</td>\n",
              "      <td>6.516304348</td>\n",
              "      <td>6.686567164</td>\n",
              "      <td>6.902413431</td>\n",
              "      <td>69.5</td>\n",
              "      <td>37.1</td>\n",
              "      <td>0.0</td>\n",
              "      <td>NaN</td>\n",
              "      <td>NaN</td>\n",
              "      <td>NaN</td>\n",
              "      <td>NaN</td>\n",
              "      <td>Dr STGR</td>\n",
              "      <td>5097.739358</td>\n",
              "    </tr>\n",
              "    <tr>\n",
              "      <th>6</th>\n",
              "      <td>7</td>\n",
              "      <td>110</td>\n",
              "      <td>1.0</td>\n",
              "      <td>0.0</td>\n",
              "      <td>NaN</td>\n",
              "      <td>NaN</td>\n",
              "      <td>6.5000</td>\n",
              "      <td>6.5</td>\n",
              "      <td>NaN</td>\n",
              "      <td>6.063405797</td>\n",
              "      <td>6.112514351</td>\n",
              "      <td>6.37775446</td>\n",
              "      <td>76.5</td>\n",
              "      <td>18.1</td>\n",
              "      <td>0.0</td>\n",
              "      <td>NaN</td>\n",
              "      <td>NaN</td>\n",
              "      <td>NaN</td>\n",
              "      <td>NaN</td>\n",
              "      <td>Dr STGR</td>\n",
              "      <td>5332.611383</td>\n",
              "    </tr>\n",
              "  </tbody>\n",
              "</table>\n",
              "</div>"
            ],
            "text/plain": [
              "   sl. no.  year  month  date  ... mme location  reference     geo_dist\n",
              "2        3    25    1.0   0.0  ... NaN      NaN    Dr STGR  5240.055003\n",
              "3        4    26    5.0  10.0  ... NaN      NaN       NEIC  5565.618141\n",
              "4        5    26    5.0  10.0  ... NaN  Myanmar        G-R  6652.904246\n",
              "5        6    50    1.0   0.0  ... NaN      NaN    Dr STGR  5097.739358\n",
              "6        7   110    1.0   0.0  ... NaN      NaN    Dr STGR  5332.611383\n",
              "\n",
              "[5 rows x 21 columns]"
            ]
          },
          "metadata": {}
        },
        {
          "output_type": "stream",
          "name": "stdout",
          "text": [
            "<class 'pandas.core.frame.DataFrame'>\n",
            "Int64Index: 50480 entries, 2 to 52988\n",
            "Data columns (total 21 columns):\n",
            " #   Column             Non-Null Count  Dtype  \n",
            "---  ------             --------------  -----  \n",
            " 0   sl. no.            50480 non-null  int64  \n",
            " 1   year               50480 non-null  int64  \n",
            " 2   month              50480 non-null  float64\n",
            " 3   date               50469 non-null  float64\n",
            " 4   origin time (utc)  19250 non-null  object \n",
            " 5   origin time (ist)  426 non-null    object \n",
            " 6   magnitude          40933 non-null  float64\n",
            " 7   mw                 50480 non-null  float64\n",
            " 8   mb                 11420 non-null  object \n",
            " 9   m_b                50479 non-null  object \n",
            " 10  ms                 50479 non-null  object \n",
            " 11  ml                 50479 non-null  object \n",
            " 12  lat (n)            50480 non-null  float64\n",
            " 13  long (e)           50480 non-null  float64\n",
            " 14  depth (km)         50480 non-null  float64\n",
            " 15  intensity mm       26 non-null     object \n",
            " 16  mmi                0 non-null      float64\n",
            " 17  mme                0 non-null      float64\n",
            " 18  location           8854 non-null   object \n",
            " 19  reference          48898 non-null  object \n",
            " 20  geo_dist           50480 non-null  float64\n",
            "dtypes: float64(10), int64(2), object(9)\n",
            "memory usage: 8.5+ MB\n"
          ]
        },
        {
          "output_type": "display_data",
          "data": {
            "text/plain": [
              "None"
            ]
          },
          "metadata": {}
        },
        {
          "output_type": "display_data",
          "data": {
            "text/html": [
              "<div>\n",
              "<style scoped>\n",
              "    .dataframe tbody tr th:only-of-type {\n",
              "        vertical-align: middle;\n",
              "    }\n",
              "\n",
              "    .dataframe tbody tr th {\n",
              "        vertical-align: top;\n",
              "    }\n",
              "\n",
              "    .dataframe thead th {\n",
              "        text-align: right;\n",
              "    }\n",
              "</style>\n",
              "<table border=\"1\" class=\"dataframe\">\n",
              "  <thead>\n",
              "    <tr style=\"text-align: right;\">\n",
              "      <th></th>\n",
              "      <th>sl. no.</th>\n",
              "      <th>year</th>\n",
              "      <th>month</th>\n",
              "      <th>date</th>\n",
              "      <th>magnitude</th>\n",
              "      <th>mw</th>\n",
              "      <th>lat (n)</th>\n",
              "      <th>long (e)</th>\n",
              "      <th>depth (km)</th>\n",
              "      <th>mmi</th>\n",
              "      <th>mme</th>\n",
              "      <th>geo_dist</th>\n",
              "    </tr>\n",
              "  </thead>\n",
              "  <tbody>\n",
              "    <tr>\n",
              "      <th>count</th>\n",
              "      <td>50480.000000</td>\n",
              "      <td>50480.000000</td>\n",
              "      <td>50480.000000</td>\n",
              "      <td>50469.000000</td>\n",
              "      <td>40933.000000</td>\n",
              "      <td>50480.000000</td>\n",
              "      <td>50480.000000</td>\n",
              "      <td>50480.000000</td>\n",
              "      <td>50480.000000</td>\n",
              "      <td>0.0</td>\n",
              "      <td>0.0</td>\n",
              "      <td>50480.000000</td>\n",
              "    </tr>\n",
              "    <tr>\n",
              "      <th>mean</th>\n",
              "      <td>27092.891581</td>\n",
              "      <td>1993.131517</td>\n",
              "      <td>6.320345</td>\n",
              "      <td>16.403495</td>\n",
              "      <td>4.537420</td>\n",
              "      <td>4.578282</td>\n",
              "      <td>56.809233</td>\n",
              "      <td>50.179186</td>\n",
              "      <td>45.334145</td>\n",
              "      <td>NaN</td>\n",
              "      <td>NaN</td>\n",
              "      <td>5816.092705</td>\n",
              "    </tr>\n",
              "    <tr>\n",
              "      <th>std</th>\n",
              "      <td>15153.201649</td>\n",
              "      <td>34.071987</td>\n",
              "      <td>3.647405</td>\n",
              "      <td>8.978870</td>\n",
              "      <td>0.625548</td>\n",
              "      <td>0.619998</td>\n",
              "      <td>28.475462</td>\n",
              "      <td>34.593432</td>\n",
              "      <td>55.431256</td>\n",
              "      <td>NaN</td>\n",
              "      <td>NaN</td>\n",
              "      <td>638.647131</td>\n",
              "    </tr>\n",
              "    <tr>\n",
              "      <th>min</th>\n",
              "      <td>2.000000</td>\n",
              "      <td>25.000000</td>\n",
              "      <td>1.000000</td>\n",
              "      <td>0.000000</td>\n",
              "      <td>2.000000</td>\n",
              "      <td>1.700000</td>\n",
              "      <td>-60.700000</td>\n",
              "      <td>-179.700000</td>\n",
              "      <td>0.000000</td>\n",
              "      <td>NaN</td>\n",
              "      <td>NaN</td>\n",
              "      <td>2432.055157</td>\n",
              "    </tr>\n",
              "    <tr>\n",
              "      <th>25%</th>\n",
              "      <td>13912.750000</td>\n",
              "      <td>1988.000000</td>\n",
              "      <td>3.000000</td>\n",
              "      <td>9.000000</td>\n",
              "      <td>4.200000</td>\n",
              "      <td>4.200000</td>\n",
              "      <td>27.500000</td>\n",
              "      <td>26.100000</td>\n",
              "      <td>10.000000</td>\n",
              "      <td>NaN</td>\n",
              "      <td>NaN</td>\n",
              "      <td>5266.089958</td>\n",
              "    </tr>\n",
              "    <tr>\n",
              "      <th>50%</th>\n",
              "      <td>27109.500000</td>\n",
              "      <td>2000.000000</td>\n",
              "      <td>6.000000</td>\n",
              "      <td>16.000000</td>\n",
              "      <td>4.400000</td>\n",
              "      <td>4.500000</td>\n",
              "      <td>70.800000</td>\n",
              "      <td>36.900000</td>\n",
              "      <td>33.000000</td>\n",
              "      <td>NaN</td>\n",
              "      <td>NaN</td>\n",
              "      <td>5873.625518</td>\n",
              "    </tr>\n",
              "    <tr>\n",
              "      <th>75%</th>\n",
              "      <td>40350.250000</td>\n",
              "      <td>2005.000000</td>\n",
              "      <td>10.000000</td>\n",
              "      <td>25.000000</td>\n",
              "      <td>4.800000</td>\n",
              "      <td>4.900000</td>\n",
              "      <td>83.700000</td>\n",
              "      <td>90.000000</td>\n",
              "      <td>53.400000</td>\n",
              "      <td>NaN</td>\n",
              "      <td>NaN</td>\n",
              "      <td>6224.439076</td>\n",
              "    </tr>\n",
              "    <tr>\n",
              "      <th>max</th>\n",
              "      <td>52974.000000</td>\n",
              "      <td>2019.000000</td>\n",
              "      <td>12.000000</td>\n",
              "      <td>31.000000</td>\n",
              "      <td>9.100000</td>\n",
              "      <td>9.100000</td>\n",
              "      <td>90.000000</td>\n",
              "      <td>179.900000</td>\n",
              "      <td>831.200000</td>\n",
              "      <td>NaN</td>\n",
              "      <td>NaN</td>\n",
              "      <td>11287.684246</td>\n",
              "    </tr>\n",
              "  </tbody>\n",
              "</table>\n",
              "</div>"
            ],
            "text/plain": [
              "            sl. no.          year         month  ...  mmi  mme      geo_dist\n",
              "count  50480.000000  50480.000000  50480.000000  ...  0.0  0.0  50480.000000\n",
              "mean   27092.891581   1993.131517      6.320345  ...  NaN  NaN   5816.092705\n",
              "std    15153.201649     34.071987      3.647405  ...  NaN  NaN    638.647131\n",
              "min        2.000000     25.000000      1.000000  ...  NaN  NaN   2432.055157\n",
              "25%    13912.750000   1988.000000      3.000000  ...  NaN  NaN   5266.089958\n",
              "50%    27109.500000   2000.000000      6.000000  ...  NaN  NaN   5873.625518\n",
              "75%    40350.250000   2005.000000     10.000000  ...  NaN  NaN   6224.439076\n",
              "max    52974.000000   2019.000000     12.000000  ...  NaN  NaN  11287.684246\n",
              "\n",
              "[8 rows x 12 columns]"
            ]
          },
          "metadata": {}
        }
      ]
    },
    {
      "cell_type": "code",
      "metadata": {
        "id": "DZUkL-pGj6pO"
      },
      "source": [
        "df_data_org.to_csv('processed_earthquake_extra.csv', index=False)"
      ],
      "execution_count": 49,
      "outputs": []
    },
    {
      "cell_type": "markdown",
      "metadata": {
        "id": "mcbn2hf4EhsJ"
      },
      "source": [
        "#**Estimating the Threshold for MW**  \n",
        "\n",
        "According to [Wikipedia](https://en.wikipedia.org/wiki/Richter_magnitude_scale), Ritcher's scale magnitude (ML) of 4.0 or above is considered to be light earthquake which is noticable. I found no such threshold directly for MW scale. Hence we need to somehow convert 4.0ML to its equivalent MW value. "
      ]
    },
    {
      "cell_type": "markdown",
      "metadata": {
        "id": "PqOON0i0HE_r"
      },
      "source": [
        "To learn mapping between ML and MW, copy these columns to a new dataframe and remove rows from it which have NaN ML values."
      ]
    },
    {
      "cell_type": "code",
      "metadata": {
        "colab": {
          "base_uri": "https://localhost:8080/"
        },
        "id": "xzx-1Yd_CM-n",
        "outputId": "bf6b4122-3408-48dc-a987-e83facd00a32"
      },
      "source": [
        "df_data_org['ml'] = df_data_org['ml'].apply(lambda x: round(float(x),1))\n",
        "print(df_data_org['ml'].unique())\n",
        "df_mags = df_data_org[['mw','ml']].copy()\n",
        "print(df_mags.shape)\n",
        "df_mags = df_mags.dropna()\n",
        "print(df_mags['ml'].unique())\n",
        "print(df_mags.shape)"
      ],
      "execution_count": 50,
      "outputs": [
        {
          "output_type": "stream",
          "name": "stdout",
          "text": [
            "[7.4 6.  6.9 6.4 8.5 8.  7.2 5.4 7.6 7.5 5.7 6.3 4.8 6.7 5.5 7.7 3.4 7.1\n",
            " 5.6 4.1 5.9 5.  4.3 4.4 5.3 4.2 6.2 4.7 4.  4.5 5.1 nan 3.5 3.9 3.  2.9\n",
            " 3.2 3.8 8.1 6.1 6.6 6.5 5.2 8.7 7.  4.9 8.3 6.8 2.7 4.6 5.8 9.1 3.6 3.1\n",
            " 7.3 2.8 2.5 2.3 3.3 2.6 2.4 3.7 1.7 7.8 1.4 1.3 2.2 8.6 8.4 2.  1.9 1.8\n",
            " 9. ]\n",
            "(50480, 2)\n",
            "[7.4 6.  6.9 6.4 8.5 8.  7.2 5.4 7.6 7.5 5.7 6.3 4.8 6.7 5.5 7.7 3.4 7.1\n",
            " 5.6 4.1 5.9 5.  4.3 4.4 5.3 4.2 6.2 4.7 4.  4.5 5.1 3.5 3.9 3.  2.9 3.2\n",
            " 3.8 8.1 6.1 6.6 6.5 5.2 8.7 7.  4.9 8.3 6.8 2.7 4.6 5.8 9.1 3.6 3.1 7.3\n",
            " 2.8 2.5 2.3 3.3 2.6 2.4 3.7 1.7 7.8 1.4 1.3 2.2 8.6 8.4 2.  1.9 1.8 9. ]\n",
            "(50479, 2)\n"
          ]
        }
      ]
    },
    {
      "cell_type": "code",
      "metadata": {
        "colab": {
          "base_uri": "https://localhost:8080/",
          "height": 671
        },
        "id": "FRcXYdLHD_h9",
        "outputId": "1e2dd5ba-ef5b-4b0b-ae56-b383679ef00d"
      },
      "source": [
        "print(df_mags.shape)\n",
        "display(df_mags.head())\n",
        "display(df_mags.info())\n",
        "display(df_mags.describe())"
      ],
      "execution_count": 51,
      "outputs": [
        {
          "output_type": "stream",
          "name": "stdout",
          "text": [
            "(50479, 2)\n"
          ]
        },
        {
          "output_type": "display_data",
          "data": {
            "text/html": [
              "<div>\n",
              "<style scoped>\n",
              "    .dataframe tbody tr th:only-of-type {\n",
              "        vertical-align: middle;\n",
              "    }\n",
              "\n",
              "    .dataframe tbody tr th {\n",
              "        vertical-align: top;\n",
              "    }\n",
              "\n",
              "    .dataframe thead th {\n",
              "        text-align: right;\n",
              "    }\n",
              "</style>\n",
              "<table border=\"1\" class=\"dataframe\">\n",
              "  <thead>\n",
              "    <tr style=\"text-align: right;\">\n",
              "      <th></th>\n",
              "      <th>mw</th>\n",
              "      <th>ml</th>\n",
              "    </tr>\n",
              "  </thead>\n",
              "  <tbody>\n",
              "    <tr>\n",
              "      <th>2</th>\n",
              "      <td>7.5</td>\n",
              "      <td>7.4</td>\n",
              "    </tr>\n",
              "    <tr>\n",
              "      <th>3</th>\n",
              "      <td>6.1</td>\n",
              "      <td>6.0</td>\n",
              "    </tr>\n",
              "    <tr>\n",
              "      <th>4</th>\n",
              "      <td>6.1</td>\n",
              "      <td>6.0</td>\n",
              "    </tr>\n",
              "    <tr>\n",
              "      <th>5</th>\n",
              "      <td>7.0</td>\n",
              "      <td>6.9</td>\n",
              "    </tr>\n",
              "    <tr>\n",
              "      <th>6</th>\n",
              "      <td>6.5</td>\n",
              "      <td>6.4</td>\n",
              "    </tr>\n",
              "  </tbody>\n",
              "</table>\n",
              "</div>"
            ],
            "text/plain": [
              "    mw   ml\n",
              "2  7.5  7.4\n",
              "3  6.1  6.0\n",
              "4  6.1  6.0\n",
              "5  7.0  6.9\n",
              "6  6.5  6.4"
            ]
          },
          "metadata": {}
        },
        {
          "output_type": "stream",
          "name": "stdout",
          "text": [
            "<class 'pandas.core.frame.DataFrame'>\n",
            "Int64Index: 50479 entries, 2 to 52988\n",
            "Data columns (total 2 columns):\n",
            " #   Column  Non-Null Count  Dtype  \n",
            "---  ------  --------------  -----  \n",
            " 0   mw      50479 non-null  float64\n",
            " 1   ml      50479 non-null  float64\n",
            "dtypes: float64(2)\n",
            "memory usage: 1.2 MB\n"
          ]
        },
        {
          "output_type": "display_data",
          "data": {
            "text/plain": [
              "None"
            ]
          },
          "metadata": {}
        },
        {
          "output_type": "display_data",
          "data": {
            "text/html": [
              "<div>\n",
              "<style scoped>\n",
              "    .dataframe tbody tr th:only-of-type {\n",
              "        vertical-align: middle;\n",
              "    }\n",
              "\n",
              "    .dataframe tbody tr th {\n",
              "        vertical-align: top;\n",
              "    }\n",
              "\n",
              "    .dataframe thead th {\n",
              "        text-align: right;\n",
              "    }\n",
              "</style>\n",
              "<table border=\"1\" class=\"dataframe\">\n",
              "  <thead>\n",
              "    <tr style=\"text-align: right;\">\n",
              "      <th></th>\n",
              "      <th>mw</th>\n",
              "      <th>ml</th>\n",
              "    </tr>\n",
              "  </thead>\n",
              "  <tbody>\n",
              "    <tr>\n",
              "      <th>count</th>\n",
              "      <td>50479.000000</td>\n",
              "      <td>50479.000000</td>\n",
              "    </tr>\n",
              "    <tr>\n",
              "      <th>mean</th>\n",
              "      <td>4.578248</td>\n",
              "      <td>4.373508</td>\n",
              "    </tr>\n",
              "    <tr>\n",
              "      <th>std</th>\n",
              "      <td>0.619956</td>\n",
              "      <td>0.645525</td>\n",
              "    </tr>\n",
              "    <tr>\n",
              "      <th>min</th>\n",
              "      <td>1.700000</td>\n",
              "      <td>1.300000</td>\n",
              "    </tr>\n",
              "    <tr>\n",
              "      <th>25%</th>\n",
              "      <td>4.200000</td>\n",
              "      <td>4.000000</td>\n",
              "    </tr>\n",
              "    <tr>\n",
              "      <th>50%</th>\n",
              "      <td>4.500000</td>\n",
              "      <td>4.300000</td>\n",
              "    </tr>\n",
              "    <tr>\n",
              "      <th>75%</th>\n",
              "      <td>4.900000</td>\n",
              "      <td>4.700000</td>\n",
              "    </tr>\n",
              "    <tr>\n",
              "      <th>max</th>\n",
              "      <td>9.100000</td>\n",
              "      <td>9.100000</td>\n",
              "    </tr>\n",
              "  </tbody>\n",
              "</table>\n",
              "</div>"
            ],
            "text/plain": [
              "                 mw            ml\n",
              "count  50479.000000  50479.000000\n",
              "mean       4.578248      4.373508\n",
              "std        0.619956      0.645525\n",
              "min        1.700000      1.300000\n",
              "25%        4.200000      4.000000\n",
              "50%        4.500000      4.300000\n",
              "75%        4.900000      4.700000\n",
              "max        9.100000      9.100000"
            ]
          },
          "metadata": {}
        }
      ]
    },
    {
      "cell_type": "markdown",
      "metadata": {
        "id": "FXwSd7ZzHW2Q"
      },
      "source": [
        "##Linear Regression for Finding MW Threshold\n",
        "To learn the mapping from ML to MW, fit a Linear Regressor on the new dataframe and predict the MW value for 4.0ML. We got the value as 4.219MW (~ 4.2MW) which becomes the threshold for classifcation of earthquakes."
      ]
    },
    {
      "cell_type": "code",
      "metadata": {
        "colab": {
          "base_uri": "https://localhost:8080/"
        },
        "id": "OvllGlqXEP9L",
        "outputId": "db609eec-2047-4536-9855-7a10ddbabd48"
      },
      "source": [
        "regr = linear_model.LinearRegression()\n",
        "regr.fit(np.expand_dims(df_mags['ml'].values,1), df_mags['mw'].values)\n",
        "Tml = np.array([[4.0]])\n",
        "Tmw = regr.predict(Tml)\n",
        "print(Tmw)"
      ],
      "execution_count": 52,
      "outputs": [
        {
          "output_type": "stream",
          "name": "stdout",
          "text": [
            "[4.2199202]\n"
          ]
        }
      ]
    },
    {
      "cell_type": "markdown",
      "metadata": {
        "id": "SKqSsezlIpjb"
      },
      "source": [
        "Plotting the MW threshold on the histogram."
      ]
    },
    {
      "cell_type": "code",
      "metadata": {
        "colab": {
          "base_uri": "https://localhost:8080/",
          "height": 431
        },
        "id": "2Fk3CyRt1ggp",
        "outputId": "43f30e54-85a4-41eb-fdac-76ab9681ea8f"
      },
      "source": [
        "T = round(Tmw[0],1)\n",
        "print(\"MW Threshold =\",T)\n",
        "\n",
        "plt.figure(figsize = (20, 5))\n",
        "sns.distplot(df_data_org['mw'], color = 'green', kde = False, bins=df_data_org['mw'].nunique())\n",
        "plt.title('Histogram of Magnitudes', fontsize = 20)\n",
        "plt.xlabel('Magnitudes', fontsize = 16)\n",
        "plt.ylabel('Count', fontsize = 16)\n",
        "plt.axvline(x=T)\n",
        "plt.show()"
      ],
      "execution_count": 53,
      "outputs": [
        {
          "output_type": "stream",
          "name": "stdout",
          "text": [
            "MW Threshold = 4.2\n"
          ]
        },
        {
          "output_type": "stream",
          "name": "stderr",
          "text": [
            "/usr/local/lib/python3.7/dist-packages/seaborn/distributions.py:2619: FutureWarning: `distplot` is a deprecated function and will be removed in a future version. Please adapt your code to use either `displot` (a figure-level function with similar flexibility) or `histplot` (an axes-level function for histograms).\n",
            "  warnings.warn(msg, FutureWarning)\n"
          ]
        },
        {
          "output_type": "display_data",
          "data": {
            "image/png": "[encoded data removed]",
            "text/plain": [
              "<Figure size 1440x360 with 1 Axes>"
            ]
          },
          "metadata": {
            "needs_background": "light"
          }
        }
      ]
    },
    {
      "cell_type": "markdown",
      "metadata": {
        "id": "ihqKUFjIJJTh"
      },
      "source": [
        "##Binarizing the MW Column for Classification  \n",
        "**class 0 (MW < T)** : No earthquake occurred / not felt  \n",
        "**class 1 (MW >= T)** : Earthquake occurred / felt  \n",
        "  \n",
        "As we can see, we get a skewed dataset where class0 has lesser rows than class1"
      ]
    },
    {
      "cell_type": "code",
      "metadata": {
        "colab": {
          "base_uri": "https://localhost:8080/"
        },
        "id": "rDdI0khjCwhZ",
        "outputId": "9d75304b-e8de-47ce-bac6-130102bed605"
      },
      "source": [
        "print(df_data_org.loc[df_data_org['mw'] < T].shape)\n",
        "print(df_data_org.loc[df_data_org['mw'] >= T].shape)"
      ],
      "execution_count": 54,
      "outputs": [
        {
          "output_type": "stream",
          "name": "stdout",
          "text": [
            "(10721, 21)\n",
            "(39759, 21)\n"
          ]
        }
      ]
    },
    {
      "cell_type": "code",
      "metadata": {
        "id": "DSKg5rMpIgo-"
      },
      "source": [
        "dy = (df_data_org['mw'] >= T).values\n",
        "dn = (df_data_org['mw'] < T).values"
      ],
      "execution_count": 55,
      "outputs": []
    },
    {
      "cell_type": "code",
      "metadata": {
        "id": "_kbaHbrPRMLj"
      },
      "source": [
        "df_data_org['mw'] = dy.astype(int)"
      ],
      "execution_count": 56,
      "outputs": []
    },
    {
      "cell_type": "code",
      "metadata": {
        "id": "pufOs5XBjtaj"
      },
      "source": [
        "df_data_org.to_csv('binarized_earthquake_42_extra.csv', index=False)"
      ],
      "execution_count": 57,
      "outputs": []
    },
    {
      "cell_type": "markdown",
      "metadata": {
        "id": "fUcBrsm1KHer"
      },
      "source": [
        "#**Removing Extra Features**  \n",
        "**Sl. no** : serial number is not required  \n",
        "**Magnitude / MB / MS / ML** : not required as we have considered MW magnitude  \n",
        "**Intensity MM / MMI / MME** : These have very few to 0 non-null rows  \n",
        "**Location** : This column has very few country names    \n",
        "**Origin Time (IST / UST)** : These columns also have very few non-null values  \n",
        "**Date** : Day of the month is a very specific information which cannot be generalized for predicting eathquakes  \n",
        "**Lat / Long** : They are not needed as we have converted them into Haversine distances from origin as a new column geo_dist  \n",
        "**Reference** : It has the names of many different organizations which provided the information of the earthquake. It does not seam feasible to encode (one-hot) them as few organizations repeat only once or twice and also many rows do not have a reference.  "
      ]
    },
    {
      "cell_type": "code",
      "metadata": {
        "colab": {
          "base_uri": "https://localhost:8080/"
        },
        "id": "sWTZYsgWNzl7",
        "outputId": "cbe69301-1f1e-4f9e-9d0b-efe99d5a51a7"
      },
      "source": [
        "print(df_data_org['reference'].nunique())\n",
        "print(df_data_org['reference'].value_counts())"
      ],
      "execution_count": 58,
      "outputs": [
        {
          "output_type": "stream",
          "name": "stdout",
          "text": [
            "37\n",
            "Dr STGR        30466\n",
            "NEIC / USGS    10134\n",
            "ISC             4808\n",
            "IMD             1568\n",
            "NEIC             951\n",
            "J & S            586\n",
            " ISC              91\n",
            "ISS/T-S           46\n",
            "G-R               34\n",
            "T-S               31\n",
            "MALIK             28\n",
            "PDE               24\n",
            "USGS              16\n",
            "GERI              15\n",
            "G-R/BDA           13\n",
            "LEE/CM            10\n",
            "LEE                9\n",
            "ISS                8\n",
            "CHAN               6\n",
            "HRVD               6\n",
            "PDE/T-S            6\n",
            "T-S/G-R            6\n",
            "ISR                5\n",
            "OLD                5\n",
            "RO                 4\n",
            "G-R/T-S            4\n",
            "BCI                3\n",
            "SHL                3\n",
            "BDA                2\n",
            "NGRI               2\n",
            "BDA/CM             2\n",
            "GSI                1\n",
            "LEE/T-S            1\n",
            "CM/G-R             1\n",
            "CM/ISS             1\n",
            "CM/LEE             1\n",
            "G-R/CM             1\n",
            "Name: reference, dtype: int64\n"
          ]
        }
      ]
    },
    {
      "cell_type": "code",
      "metadata": {
        "colab": {
          "base_uri": "https://localhost:8080/",
          "height": 722
        },
        "id": "xh2eJIwKi1Yv",
        "outputId": "7d7ad8c1-306c-44ee-f0b7-ace598829a3c"
      },
      "source": [
        "df_data_org.drop(['sl. no.','mb','m_b','ms','ml','intensity mm','mmi','mme','location','reference','origin time (utc)','origin time (ist)','magnitude','date','lat (n)','long (e)'], axis=1, inplace=True)\n",
        "print(df_data_org.shape)\n",
        "display(df_data_org.head())\n",
        "display(df_data_org.info())\n",
        "display(df_data_org.describe())"
      ],
      "execution_count": 59,
      "outputs": [
        {
          "output_type": "stream",
          "name": "stdout",
          "text": [
            "(50480, 5)\n"
          ]
        },
        {
          "output_type": "display_data",
          "data": {
            "text/html": [
              "<div>\n",
              "<style scoped>\n",
              "    .dataframe tbody tr th:only-of-type {\n",
              "        vertical-align: middle;\n",
              "    }\n",
              "\n",
              "    .dataframe tbody tr th {\n",
              "        vertical-align: top;\n",
              "    }\n",
              "\n",
              "    .dataframe thead th {\n",
              "        text-align: right;\n",
              "    }\n",
              "</style>\n",
              "<table border=\"1\" class=\"dataframe\">\n",
              "  <thead>\n",
              "    <tr style=\"text-align: right;\">\n",
              "      <th></th>\n",
              "      <th>year</th>\n",
              "      <th>month</th>\n",
              "      <th>mw</th>\n",
              "      <th>depth (km)</th>\n",
              "      <th>geo_dist</th>\n",
              "    </tr>\n",
              "  </thead>\n",
              "  <tbody>\n",
              "    <tr>\n",
              "      <th>2</th>\n",
              "      <td>25</td>\n",
              "      <td>1.0</td>\n",
              "      <td>1</td>\n",
              "      <td>0.0</td>\n",
              "      <td>5240.055003</td>\n",
              "    </tr>\n",
              "    <tr>\n",
              "      <th>3</th>\n",
              "      <td>26</td>\n",
              "      <td>5.0</td>\n",
              "      <td>1</td>\n",
              "      <td>33.0</td>\n",
              "      <td>5565.618141</td>\n",
              "    </tr>\n",
              "    <tr>\n",
              "      <th>4</th>\n",
              "      <td>26</td>\n",
              "      <td>5.0</td>\n",
              "      <td>1</td>\n",
              "      <td>80.0</td>\n",
              "      <td>6652.904246</td>\n",
              "    </tr>\n",
              "    <tr>\n",
              "      <th>5</th>\n",
              "      <td>50</td>\n",
              "      <td>1.0</td>\n",
              "      <td>1</td>\n",
              "      <td>0.0</td>\n",
              "      <td>5097.739358</td>\n",
              "    </tr>\n",
              "    <tr>\n",
              "      <th>6</th>\n",
              "      <td>110</td>\n",
              "      <td>1.0</td>\n",
              "      <td>1</td>\n",
              "      <td>0.0</td>\n",
              "      <td>5332.611383</td>\n",
              "    </tr>\n",
              "  </tbody>\n",
              "</table>\n",
              "</div>"
            ],
            "text/plain": [
              "   year  month  mw  depth (km)     geo_dist\n",
              "2    25    1.0   1         0.0  5240.055003\n",
              "3    26    5.0   1        33.0  5565.618141\n",
              "4    26    5.0   1        80.0  6652.904246\n",
              "5    50    1.0   1         0.0  5097.739358\n",
              "6   110    1.0   1         0.0  5332.611383"
            ]
          },
          "metadata": {}
        },
        {
          "output_type": "stream",
          "name": "stdout",
          "text": [
            "<class 'pandas.core.frame.DataFrame'>\n",
            "Int64Index: 50480 entries, 2 to 52988\n",
            "Data columns (total 5 columns):\n",
            " #   Column      Non-Null Count  Dtype  \n",
            "---  ------      --------------  -----  \n",
            " 0   year        50480 non-null  int64  \n",
            " 1   month       50480 non-null  float64\n",
            " 2   mw          50480 non-null  int64  \n",
            " 3   depth (km)  50480 non-null  float64\n",
            " 4   geo_dist    50480 non-null  float64\n",
            "dtypes: float64(3), int64(2)\n",
            "memory usage: 2.3 MB\n"
          ]
        },
        {
          "output_type": "display_data",
          "data": {
            "text/plain": [
              "None"
            ]
          },
          "metadata": {}
        },
        {
          "output_type": "display_data",
          "data": {
            "text/html": [
              "<div>\n",
              "<style scoped>\n",
              "    .dataframe tbody tr th:only-of-type {\n",
              "        vertical-align: middle;\n",
              "    }\n",
              "\n",
              "    .dataframe tbody tr th {\n",
              "        vertical-align: top;\n",
              "    }\n",
              "\n",
              "    .dataframe thead th {\n",
              "        text-align: right;\n",
              "    }\n",
              "</style>\n",
              "<table border=\"1\" class=\"dataframe\">\n",
              "  <thead>\n",
              "    <tr style=\"text-align: right;\">\n",
              "      <th></th>\n",
              "      <th>year</th>\n",
              "      <th>month</th>\n",
              "      <th>mw</th>\n",
              "      <th>depth (km)</th>\n",
              "      <th>geo_dist</th>\n",
              "    </tr>\n",
              "  </thead>\n",
              "  <tbody>\n",
              "    <tr>\n",
              "      <th>count</th>\n",
              "      <td>50480.000000</td>\n",
              "      <td>50480.000000</td>\n",
              "      <td>50480.000000</td>\n",
              "      <td>50480.000000</td>\n",
              "      <td>50480.000000</td>\n",
              "    </tr>\n",
              "    <tr>\n",
              "      <th>mean</th>\n",
              "      <td>1993.131517</td>\n",
              "      <td>6.320345</td>\n",
              "      <td>0.787619</td>\n",
              "      <td>45.334145</td>\n",
              "      <td>5816.092705</td>\n",
              "    </tr>\n",
              "    <tr>\n",
              "      <th>std</th>\n",
              "      <td>34.071987</td>\n",
              "      <td>3.647405</td>\n",
              "      <td>0.408997</td>\n",
              "      <td>55.431256</td>\n",
              "      <td>638.647131</td>\n",
              "    </tr>\n",
              "    <tr>\n",
              "      <th>min</th>\n",
              "      <td>25.000000</td>\n",
              "      <td>1.000000</td>\n",
              "      <td>0.000000</td>\n",
              "      <td>0.000000</td>\n",
              "      <td>2432.055157</td>\n",
              "    </tr>\n",
              "    <tr>\n",
              "      <th>25%</th>\n",
              "      <td>1988.000000</td>\n",
              "      <td>3.000000</td>\n",
              "      <td>1.000000</td>\n",
              "      <td>10.000000</td>\n",
              "      <td>5266.089958</td>\n",
              "    </tr>\n",
              "    <tr>\n",
              "      <th>50%</th>\n",
              "      <td>2000.000000</td>\n",
              "      <td>6.000000</td>\n",
              "      <td>1.000000</td>\n",
              "      <td>33.000000</td>\n",
              "      <td>5873.625518</td>\n",
              "    </tr>\n",
              "    <tr>\n",
              "      <th>75%</th>\n",
              "      <td>2005.000000</td>\n",
              "      <td>10.000000</td>\n",
              "      <td>1.000000</td>\n",
              "      <td>53.400000</td>\n",
              "      <td>6224.439076</td>\n",
              "    </tr>\n",
              "    <tr>\n",
              "      <th>max</th>\n",
              "      <td>2019.000000</td>\n",
              "      <td>12.000000</td>\n",
              "      <td>1.000000</td>\n",
              "      <td>831.200000</td>\n",
              "      <td>11287.684246</td>\n",
              "    </tr>\n",
              "  </tbody>\n",
              "</table>\n",
              "</div>"
            ],
            "text/plain": [
              "               year         month            mw    depth (km)      geo_dist\n",
              "count  50480.000000  50480.000000  50480.000000  50480.000000  50480.000000\n",
              "mean    1993.131517      6.320345      0.787619     45.334145   5816.092705\n",
              "std       34.071987      3.647405      0.408997     55.431256    638.647131\n",
              "min       25.000000      1.000000      0.000000      0.000000   2432.055157\n",
              "25%     1988.000000      3.000000      1.000000     10.000000   5266.089958\n",
              "50%     2000.000000      6.000000      1.000000     33.000000   5873.625518\n",
              "75%     2005.000000     10.000000      1.000000     53.400000   6224.439076\n",
              "max     2019.000000     12.000000      1.000000    831.200000  11287.684246"
            ]
          },
          "metadata": {}
        }
      ]
    },
    {
      "cell_type": "markdown",
      "metadata": {
        "id": "pbcUWOI9kc6T"
      },
      "source": [
        "###Saving final processed dataset."
      ]
    },
    {
      "cell_type": "code",
      "metadata": {
        "id": "WvVmJ-lNTbjH"
      },
      "source": [
        "df_data_org.to_csv('binarized_earthquake_42.csv', index=False)"
      ],
      "execution_count": 60,
      "outputs": []
    },
    {
      "cell_type": "markdown",
      "metadata": {
        "id": "bPpuZnESlHQb"
      },
      "source": [
        "#**Ideas for Additional / Derived Features**  \n",
        "\n",
        "\n",
        "*   Time to period of the day : morning, noon, night (Problem : many missing values)\n",
        "*   Train a model to find best values for missing data and use those attributes  \n",
        "*   Get additional information of the location where earthquake took place with the help of Geo APIs. eg: continent, altitude, etc\n",
        "\n"
      ]
    }
  ]
}